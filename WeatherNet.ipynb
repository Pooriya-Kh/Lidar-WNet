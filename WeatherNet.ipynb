{
 "cells": [
  {
   "cell_type": "markdown",
   "id": "0b12812d",
   "metadata": {},
   "source": [
    "# Dataset"
   ]
  },
  {
   "cell_type": "code",
   "execution_count": 1,
   "id": "30c48dd7",
   "metadata": {},
   "outputs": [],
   "source": [
    "import os\n",
    "import numpy as np\n",
    "\n",
    "import torch\n",
    "import torch.nn as nn\n",
    "import torch.nn.functional as F\n",
    "\n",
    "# Code from SalsaNext: https://github.com/Halmstad-University/SalsaNext\n",
    "from laserscan import LaserScan, SemLaserScan\n",
    "from laserscanvis import LaserScanVis"
   ]
  },
  {
   "cell_type": "code",
   "execution_count": 2,
   "id": "68bc74f7",
   "metadata": {},
   "outputs": [],
   "source": [
    "# Dataset directory\n",
    "data_dir = \"/tmp/wads_dataset/clean_dataset/\"\n",
    "# Lists to save .bin and .label files directories\n",
    "scans = []\n",
    "labels = []\n",
    "# Expand the dataset directory\n",
    "for folder in os.walk(data_dir):\n",
    "    # Add .label files to labels list\n",
    "    if \"labels\" in folder[0]:\n",
    "        for file in sorted(folder[-1]):\n",
    "            labels.append(os.path.join(folder[0], file))\n",
    "    # Add .bin files to scans list\n",
    "    elif \"velodyne\" in folder[0]:\n",
    "        for file in sorted(folder[-1]):\n",
    "            scans.append(os.path.join(folder[0], file))"
   ]
  },
  {
   "cell_type": "code",
   "execution_count": 3,
   "id": "bb3f039c",
   "metadata": {},
   "outputs": [
    {
     "name": "stdout",
     "output_type": "stream",
     "text": [
      "['/tmp/wads_dataset/clean_dataset/24/velodyne/040908.bin', '/tmp/wads_dataset/clean_dataset/24/velodyne/040909.bin', '/tmp/wads_dataset/clean_dataset/24/velodyne/040910.bin', '/tmp/wads_dataset/clean_dataset/24/velodyne/040911.bin'] \n",
      "\n",
      "['/tmp/wads_dataset/clean_dataset/24/labels/040908.label', '/tmp/wads_dataset/clean_dataset/24/labels/040909.label', '/tmp/wads_dataset/clean_dataset/24/labels/040910.label', '/tmp/wads_dataset/clean_dataset/24/labels/040911.label']\n"
     ]
    }
   ],
   "source": [
    "print(scans[0:4], \"\\n\")\n",
    "print(labels[0:4])"
   ]
  },
  {
   "cell_type": "code",
   "execution_count": 4,
   "id": "c7b967ae",
   "metadata": {},
   "outputs": [],
   "source": [
    "scans_0 = np.fromfile(scans[0], dtype=np.float32).reshape(-1,4)\n",
    "labels_0 = np.fromfile(labels[0], dtype=np.int16).reshape(-1,2)"
   ]
  },
  {
   "cell_type": "code",
   "execution_count": 5,
   "id": "dab84f87",
   "metadata": {},
   "outputs": [
    {
     "name": "stdout",
     "output_type": "stream",
     "text": [
      "(97207, 4)\n",
      "(97207, 2)\n"
     ]
    }
   ],
   "source": [
    "print(scans_0.shape)\n",
    "print(labels_0.shape)"
   ]
  },
  {
   "cell_type": "code",
   "execution_count": 6,
   "id": "75070d53",
   "metadata": {},
   "outputs": [],
   "source": [
    "laser_scan = LaserScan(project=True)"
   ]
  },
  {
   "cell_type": "code",
   "execution_count": 7,
   "id": "e44e13ca",
   "metadata": {},
   "outputs": [],
   "source": [
    "laser_scan.open_scan(scans[0])"
   ]
  },
  {
   "cell_type": "code",
   "execution_count": 8,
   "id": "b5cc66f1",
   "metadata": {},
   "outputs": [
    {
     "data": {
      "text/plain": [
       "(64, 1024, 3)"
      ]
     },
     "execution_count": 8,
     "metadata": {},
     "output_type": "execute_result"
    }
   ],
   "source": [
    "laser_scan.proj_xyz.shape"
   ]
  },
  {
   "cell_type": "code",
   "execution_count": 9,
   "id": "c217bfbc",
   "metadata": {},
   "outputs": [],
   "source": [
    "# Todo:\n",
    "# Visualize projection output in 3D using LaserScanVis to make sure it's working!"
   ]
  },
  {
   "cell_type": "markdown",
   "id": "e227b5a7",
   "metadata": {},
   "source": [
    "# WeatherNet\n",
    "### Based on LilaNet: https://github.com/TheCodez/pytorch-LiLaNet"
   ]
  },
  {
   "cell_type": "code",
   "execution_count": 10,
   "id": "efa9d20f",
   "metadata": {},
   "outputs": [],
   "source": [
    "class BasicConv2d(nn.Module):\n",
    "    '''\n",
    "    Conv2D + Batchnorm\n",
    "    '''\n",
    "    def __init__(self, in_channels, out_channels, **kwargs):\n",
    "        super(BasicConv2d, self).__init__()\n",
    "        self.conv = nn.Conv2d(in_channels, out_channels, bias=False, **kwargs)\n",
    "        self.bn = nn.BatchNorm2d(out_channels)\n",
    "\n",
    "    def forward(self, x):\n",
    "        x = self.conv(x)\n",
    "        x = self.bn(x)\n",
    "        return F.relu(x, inplace=True)"
   ]
  },
  {
   "cell_type": "code",
   "execution_count": 11,
   "id": "741026ae",
   "metadata": {},
   "outputs": [],
   "source": [
    "class ModifiedLiLaBlock(nn.Module):\n",
    "    '''\n",
    "    Modified LiLa Block as mentioned in paper (https://arxiv.org/abs/1912.03874).\n",
    "    '''\n",
    "    def __init__(self, in_channels, n):\n",
    "        super(ModifiedLiLaBlock, self).__init__()\n",
    "\n",
    "        self.branch1 = BasicConv2d(in_channels, n, kernel_size=(7, 3), padding=(2, 0))\n",
    "        self.branch2 = BasicConv2d(in_channels, n, kernel_size=3)\n",
    "        self.branch3 = BasicConv2d(in_channels, n, kernel_size=3, dilation=2)\n",
    "        self.branch4 = BasicConv2d(in_channels, n, kernel_size=(3, 7), padding=(0, 2))\n",
    "        self.conv = BasicConv2d(n * 3, n, kernel_size=1, padding=1)\n",
    "\n",
    "    def forward(self, x):\n",
    "        branch1 = self.branch1(x)\n",
    "        branch2 = self.branch2(x)\n",
    "        branch3 = self.branch3(x)\n",
    "        branch4 = self.branch4(x)\n",
    "\n",
    "        output = torch.cat([branch1, branch2, branch3, branch4], 1)\n",
    "        output = self.conv(output)\n",
    "\n",
    "        return output"
   ]
  },
  {
   "cell_type": "code",
   "execution_count": 12,
   "id": "674bcd89",
   "metadata": {},
   "outputs": [],
   "source": [
    "class WeatherNet(nn.Module):\n",
    "    '''\n",
    "    Weather Net as mentioned in paper (https://arxiv.org/abs/1912.03874).\n",
    "    '''\n",
    "    \n",
    "    def __init__(self, num_classes=3):\n",
    "        super(WeatherNet, self).__init__()\n",
    "\n",
    "        self.lila1 = ModifiedLiLaBlock(2, 32)\n",
    "        self.lila2 = ModifiedLiLaBlock(32, 64)\n",
    "        self.lila3 = ModifiedLiLaBlock(64, 96)\n",
    "        self.lila4 = ModifiedLiLaBlock(96, 96)\n",
    "        self.dropout = nn.Dropout2d(p=0.5)\n",
    "        self.lila5 = ModifiedLiLaBlock(96, 64)\n",
    "        self.classifier = nn.Conv2d(64, num_classes, kernel_size=1)\n",
    "        \n",
    "        # weights and biases initilization\n",
    "        for m in self.modules():\n",
    "            if isinstance(m, nn.Conv2d):\n",
    "                nn.init.kaiming_normal_(m.weight, mode='fan_out', nonlinearity='relu')\n",
    "                if m.bias is not None:\n",
    "                    nn.init.constant_(m.bias, 0)\n",
    "            elif isinstance(m, nn.BatchNorm2d):\n",
    "                nn.init.constant_(m.weight, 1)\n",
    "                nn.init.constant_(m.bias, 0)\n",
    "\n",
    "    def forward(self, distance, reflectivity):\n",
    "        x = torch.cat([distance, reflectivity], 1)\n",
    "        x = self.lila1(x)\n",
    "        x = self.lila2(x)\n",
    "        x = self.lila3(x)\n",
    "        x = self.lila4(x)\n",
    "        x = sel.dropout(x)\n",
    "        x = self.lila5(x)\n",
    "        x = self.classifier(x)\n",
    "\n",
    "        return x"
   ]
  },
  {
   "cell_type": "code",
   "execution_count": null,
   "id": "7bb41b6f",
   "metadata": {},
   "outputs": [],
   "source": []
  }
 ],
 "metadata": {
  "kernelspec": {
   "display_name": "Python 3 (ipykernel)",
   "language": "python",
   "name": "python3"
  },
  "language_info": {
   "codemirror_mode": {
    "name": "ipython",
    "version": 3
   },
   "file_extension": ".py",
   "mimetype": "text/x-python",
   "name": "python",
   "nbconvert_exporter": "python",
   "pygments_lexer": "ipython3",
   "version": "3.7.4"
  }
 },
 "nbformat": 4,
 "nbformat_minor": 5
}
